      Name  Maths  Science
0     Myra   32.0     67.0
1     Anya   65.0     34.0
2  Aaishni   87.0     99.0
3  Vriddhi    NaN      NaN
Name       0
Maths      1
Science    1
dtype: int64
Name        object
Maths      float64
Science    float64
dtype: object

sort
      Name  Maths  Science
2  Aaishni   87.0     99.0
1     Anya   65.0     34.0
0     Myra   32.0     67.0
3  Vriddhi    NaN      NaN
      Name  Maths  Science
0     Myra   32.0     67.0
1     Anya   65.0     34.0
2  Aaishni   87.0     99.0
3  Vriddhi    NaN      NaN
      Name  Maths  Science
0     Myra   32.0     67.0
1     Anya   65.0     34.0
2  Aaishni   87.0     99.0
3  Vriddhi    NaN      NaN
      Name  Maths  Science  Rank_Science  Rank_Maths
0     Myra   32.0     67.0           2.0         3.0
1     Anya   65.0     34.0           3.0         2.0
2  Aaishni   87.0     99.0           1.0         1.0
3  Vriddhi    NaN      NaN           NaN         NaN
Please sit for the retest Myra
Please sit for the retest Anya
Congratulations on coming first in Maths Aaishni
Congratulations on coming first in Science Aaishni
Please sit for the retest Vriddhi

Maths
61.333333333333336
Maths      184.0
Science    200.0
dtype: float64
   Name  Maths  Science  Rank_Science  Rank_Maths  Total mks
0  Myra   32.0     67.0           2.0         3.0       99.0
0     True
1    False
2    False
3    False
Name: Maths, dtype: bool
      Name  Maths  Science  Rank_Science  Rank_Maths  Total mks
3  Vriddhi    NaN      NaN           NaN         NaN        0.0

=== Code Execution Successful ===
